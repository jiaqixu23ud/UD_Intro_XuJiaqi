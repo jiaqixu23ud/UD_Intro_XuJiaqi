{
 "cells": [
  {
   "cell_type": "markdown",
   "id": "38e188a5",
   "metadata": {},
   "source": [
    "# Exercise 00\n",
    "Write a piece of code that allocates a list of 20 integers and initializes each element by its index multiplied by 5. Print the result."
   ]
  },
  {
   "cell_type": "code",
   "execution_count": 1,
   "id": "01aa4f35",
   "metadata": {},
   "outputs": [
    {
     "name": "stdout",
     "output_type": "stream",
     "text": [
      "4\n",
      "[0, 5, 10, 15, 20, 25, 30, 35, 40, 45, 50, 55, 60, 65, 70, 75, 80, 85, 90, 95]\n"
     ]
    }
   ],
   "source": [
    "e=int(input())\n",
    "List=[e*5 for e in range(20)]\n",
    "print(List)"
   ]
  },
  {
   "cell_type": "markdown",
   "id": "529d91ae",
   "metadata": {},
   "source": [
    "# Exercise 01\n",
    "Define a function that takes an integer as input, prints  all integers that it is divisable by, and returns the largest one."
   ]
  },
  {
   "cell_type": "code",
   "execution_count": 2,
   "id": "30e79132",
   "metadata": {},
   "outputs": [
    {
     "name": "stdout",
     "output_type": "stream",
     "text": [
      "6\n",
      "1\n",
      "2\n",
      "3\n"
     ]
    },
    {
     "data": {
      "text/plain": [
       "5"
      ]
     },
     "execution_count": 2,
     "metadata": {},
     "output_type": "execute_result"
    }
   ],
   "source": [
    "def dividers(n):\n",
    "    for i in range (1,n):\n",
    "        if n%i==0:\n",
    "            print(i)\n",
    "    return(i)\n",
    "dividers(int(input()))"
   ]
  },
  {
   "cell_type": "code",
   "execution_count": 3,
   "id": "bbbc803b",
   "metadata": {},
   "outputs": [
    {
     "name": "stdout",
     "output_type": "stream",
     "text": [
      "7\n",
      "1\n"
     ]
    },
    {
     "data": {
      "text/plain": [
       "1"
      ]
     },
     "execution_count": 3,
     "metadata": {},
     "output_type": "execute_result"
    }
   ],
   "source": [
    "def maxDivisable(n):\n",
    "    for i in range (1,n):\n",
    "        if n%i==0:\n",
    "            print(i)\n",
    "            largest_number=i\n",
    "    return(largest_number)\n",
    "maxDivisable(int(input()))"
   ]
  },
  {
   "cell_type": "markdown",
   "id": "cfbe30d4",
   "metadata": {},
   "source": [
    "# Exercise 02\n",
    "- create a dictionary with 6 keys and values of your choice\n",
    "- write a function that takes a dictionary and a value as input and returns whether the value occurs as a key in the dictionary\n",
    "- write a function that takes a dictionary as input, and returns the dictionary but the keys are swapped with their values (resolve the issue if a value occurs twice!)"
   ]
  },
  {
   "cell_type": "code",
   "execution_count": 6,
   "id": "2123f1c6",
   "metadata": {},
   "outputs": [],
   "source": [
    "Dict={'ca va':'how you doin','bonjour':'hello','london':'londres','french':'francais','key':'cle','one':'une'}"
   ]
  },
  {
   "cell_type": "code",
   "execution_count": 8,
   "id": "6225d376",
   "metadata": {},
   "outputs": [
    {
     "name": "stdout",
     "output_type": "stream",
     "text": [
      "how you doin ca va\n",
      "hello bonjour\n",
      "londres london\n",
      "francais french\n",
      "cle key\n",
      "une one\n"
     ]
    }
   ],
   "source": [
    "Dict={'ca va':'how you doin','bonjour':'hello','london':'londres','french':'francais','key':'cle','one':'une'}\n",
    "for x,y in Dict.items():\n",
    "    print(y,x)"
   ]
  },
  {
   "cell_type": "code",
   "execution_count": 12,
   "id": "f69ae49e",
   "metadata": {},
   "outputs": [
    {
     "name": "stdout",
     "output_type": "stream",
     "text": [
      "ca va: how you doin\n",
      "bonjour: hello\n",
      "london: londres\n",
      "french: francais\n",
      "key: cle\n",
      "one: une\n"
     ]
    }
   ],
   "source": [
    "def swap_keys_and_values(input_dict):\n",
    "    swapped_dict = {}\n",
    "    for key, value in input_dict.items():\n",
    "        if value not in swapped_dict:\n",
    "            swapped_dict[value] = key\n",
    "        else:\n",
    "            if isinstance(swapped_dict[value], list):\n",
    "                swapped_dict[value].append(key)\n",
    "            else:\n",
    "                swapped_dict[value] = [swapped_dict[value], key]\n",
    "    return swapped_dict\n",
    "\n",
    "my_dict = {\n",
    "    'ca va': 'how you doin',\n",
    "    'bonjour': 'hello',\n",
    "    'london': 'londres',\n",
    "    'french': 'francais',\n",
    "    'key': 'cle',\n",
    "    'one': 'une'\n",
    "}\n",
    "\n",
    "swapped_result = swap_keys_and_values(my_dict)\n",
    "\n",
    "for key, value in swapped_result.items():\n",
    "    if isinstance(value, list):\n",
    "        print(f\"{', '.join(value)}: {key}\")\n",
    "    else:\n",
    "        print(f\"{value}: {key}\")"
   ]
  },
  {
   "cell_type": "markdown",
   "id": "b4b4e426",
   "metadata": {},
   "source": [
    "# Exercise 03\n",
    "Define a function that creates a dictionary of the first n fibonacci numbers as values paired with their indices as keys. "
   ]
  },
  {
   "cell_type": "code",
   "execution_count": 13,
   "id": "7845b5a4",
   "metadata": {},
   "outputs": [
    {
     "name": "stdout",
     "output_type": "stream",
     "text": [
      "Index 0: Fibonacci Number 0\n",
      "Index 1: Fibonacci Number 1\n",
      "Index 2: Fibonacci Number 1\n",
      "Index 3: Fibonacci Number 2\n",
      "Index 4: Fibonacci Number 3\n",
      "Index 5: Fibonacci Number 5\n",
      "Index 6: Fibonacci Number 8\n",
      "Index 7: Fibonacci Number 13\n",
      "Index 8: Fibonacci Number 21\n",
      "Index 9: Fibonacci Number 34\n"
     ]
    }
   ],
   "source": [
    "def generate_fibonacci_dict(n):\n",
    "    fibonacci_dict = {}\n",
    "    a, b = 0, 1  # Initialize the first two Fibonacci numbers\n",
    "    for i in range(n):\n",
    "        fibonacci_dict[i] = a\n",
    "        a, b = b, a + b  # Calculate the next Fibonacci number\n",
    "    return fibonacci_dict\n",
    "\n",
    "n = 10  # Change this to the desired number of Fibonacci numbers\n",
    "fibonacci_dict = generate_fibonacci_dict(n)\n",
    "\n",
    "for key, value in fibonacci_dict.items():\n",
    "    print(f\"Index {key}: Fibonacci Number {value}\")"
   ]
  },
  {
   "cell_type": "code",
   "execution_count": null,
   "id": "5696d224",
   "metadata": {},
   "outputs": [],
   "source": []
  }
 ],
 "metadata": {
  "kernelspec": {
   "display_name": "Python 3 (ipykernel)",
   "language": "python",
   "name": "python3"
  },
  "language_info": {
   "codemirror_mode": {
    "name": "ipython",
    "version": 3
   },
   "file_extension": ".py",
   "mimetype": "text/x-python",
   "name": "python",
   "nbconvert_exporter": "python",
   "pygments_lexer": "ipython3",
   "version": "3.11.5"
  }
 },
 "nbformat": 4,
 "nbformat_minor": 5
}
