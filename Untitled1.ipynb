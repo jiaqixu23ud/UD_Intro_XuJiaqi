{
 "cells": [
  {
   "cell_type": "code",
   "execution_count": 2,
   "id": "94d17c7e",
   "metadata": {},
   "outputs": [
    {
     "name": "stdout",
     "output_type": "stream",
     "text": [
      "Requirement already satisfied: selenium in f:\\anaconda\\envs\\py38\\lib\\site-packages (4.13.0)\n",
      "Requirement already satisfied: urllib3[socks]<3,>=1.26 in f:\\anaconda\\envs\\py38\\lib\\site-packages (from selenium) (2.0.6)\n",
      "Requirement already satisfied: trio~=0.17 in f:\\anaconda\\envs\\py38\\lib\\site-packages (from selenium) (0.22.2)\n",
      "Requirement already satisfied: trio-websocket~=0.9 in f:\\anaconda\\envs\\py38\\lib\\site-packages (from selenium) (0.11.1)\n",
      "Requirement already satisfied: certifi>=2021.10.8 in f:\\anaconda\\envs\\py38\\lib\\site-packages (from selenium) (2023.7.22)\n",
      "Requirement already satisfied: attrs>=20.1.0 in f:\\anaconda\\envs\\py38\\lib\\site-packages (from trio~=0.17->selenium) (23.1.0)\n",
      "Requirement already satisfied: sortedcontainers in f:\\anaconda\\envs\\py38\\lib\\site-packages (from trio~=0.17->selenium) (2.4.0)\n",
      "Requirement already satisfied: idna in f:\\anaconda\\envs\\py38\\lib\\site-packages (from trio~=0.17->selenium) (3.4)\n",
      "Requirement already satisfied: outcome in f:\\anaconda\\envs\\py38\\lib\\site-packages (from trio~=0.17->selenium) (1.2.0)\n",
      "Requirement already satisfied: sniffio in f:\\anaconda\\envs\\py38\\lib\\site-packages (from trio~=0.17->selenium) (1.2.0)\n",
      "Requirement already satisfied: cffi>=1.14 in f:\\anaconda\\envs\\py38\\lib\\site-packages (from trio~=0.17->selenium) (1.15.1)\n",
      "Requirement already satisfied: exceptiongroup>=1.0.0rc9 in f:\\anaconda\\envs\\py38\\lib\\site-packages (from trio~=0.17->selenium) (1.1.3)\n",
      "Requirement already satisfied: wsproto>=0.14 in f:\\anaconda\\envs\\py38\\lib\\site-packages (from trio-websocket~=0.9->selenium) (1.2.0)\n",
      "Requirement already satisfied: pysocks!=1.5.7,<2.0,>=1.5.6 in f:\\anaconda\\envs\\py38\\lib\\site-packages (from urllib3[socks]<3,>=1.26->selenium) (1.7.1)\n",
      "Requirement already satisfied: pycparser in f:\\anaconda\\envs\\py38\\lib\\site-packages (from cffi>=1.14->trio~=0.17->selenium) (2.21)\n",
      "Requirement already satisfied: h11<1,>=0.9.0 in f:\\anaconda\\envs\\py38\\lib\\site-packages (from wsproto>=0.14->trio-websocket~=0.9->selenium) (0.14.0)\n",
      "Note: you may need to restart the kernel to use updated packages.\n"
     ]
    },
    {
     "name": "stderr",
     "output_type": "stream",
     "text": [
      "WARNING: Ignoring invalid distribution - (f:\\anaconda\\envs\\py38\\lib\\site-packages)\n",
      "WARNING: Ignoring invalid distribution -illow (f:\\anaconda\\envs\\py38\\lib\\site-packages)\n",
      "WARNING: Ignoring invalid distribution - (f:\\anaconda\\envs\\py38\\lib\\site-packages)\n",
      "WARNING: Ignoring invalid distribution -illow (f:\\anaconda\\envs\\py38\\lib\\site-packages)\n"
     ]
    }
   ],
   "source": [
    "pip install selenium"
   ]
  },
  {
   "cell_type": "code",
   "execution_count": 20,
   "id": "d6442541",
   "metadata": {},
   "outputs": [],
   "source": [
    "import selenium \n",
    "from selenium import webdriver\n",
    "from selenium.webdriver.common.by import By\n",
    "from selenium.webdriver.common.keys import Keys\n",
    "from selenium.webdriver.support.ui import Select\n",
    "from selenium.webdriver.support.ui import WebDriverWait\n",
    "from selenium.webdriver.support import expected_conditions as EC\n",
    "from time import sleep"
   ]
  },
  {
   "cell_type": "code",
   "execution_count": null,
   "id": "c9747e24",
   "metadata": {},
   "outputs": [],
   "source": [
    "driver = webdriver.Chrome()\n",
    "url=\"https://www.youtube.com/\"\n",
    "driver.get(url)\n",
    "\n",
    "button01 = driver.find_element(By.CLASS_NAME, \"yt-spec-button-shape-next__button-text-content\")\n",
    "driver.execute_script(\"arguments[0].click();\", button01)\n",
    "\n",
    "search_query = driver.find_element(\"name\", \"term\")\n",
    "    \n",
    "search_query.send_keys('Vintage Music Video')\n",
    "search_query.send_keys(Keys.RETURN)"
   ]
  },
  {
   "cell_type": "code",
   "execution_count": null,
   "id": "0dabb22f",
   "metadata": {},
   "outputs": [],
   "source": [
    "button02 = driver.find_element(By.TITLE, \"Vintage and Cool Photography Music Videos\")\n",
    "driver.execute_script(\"arguments[0].click();\", button02)\n",
    "\n",
    "try:\n",
    "    MusicVideoNames = driver.find_elements(By.ID, \"video-title\")\n",
    "    \n",
    "    for MusicVideoNames in videos:\n",
    "        try:\n",
    "            title = MusicVideoNames.text\n",
    "            print(title)\n",
    "            \n",
    "            books_list.append(title)\n",
    "            sleep(2)\n",
    "        except Exception as e:\n",
    "            print(\"Could not extract title:\", str(e))\n",
    "except Exception as e:\n",
    "    print(\"Could not find elements:\", str(e))\n",
    "\n",
    "driver.quit()"
   ]
  },
  {
   "cell_type": "code",
   "execution_count": null,
   "id": "19d0514f",
   "metadata": {},
   "outputs": [],
   "source": []
  }
 ],
 "metadata": {
  "kernelspec": {
   "display_name": "Python 3 (ipykernel)",
   "language": "python",
   "name": "python3"
  },
  "language_info": {
   "codemirror_mode": {
    "name": "ipython",
    "version": 3
   },
   "file_extension": ".py",
   "mimetype": "text/x-python",
   "name": "python",
   "nbconvert_exporter": "python",
   "pygments_lexer": "ipython3",
   "version": "3.8.18"
  }
 },
 "nbformat": 4,
 "nbformat_minor": 5
}
